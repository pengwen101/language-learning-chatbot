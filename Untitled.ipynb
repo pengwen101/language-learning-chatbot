{
 "cells": [
  {
   "cell_type": "code",
   "execution_count": null,
   "id": "151d55a2-6835-4774-b4e0-6089dac7f25e",
   "metadata": {},
   "outputs": [],
   "source": [
    "import requests\n",
    "import json\n",
    "\n",
    "# Define the URL of your Flask API\n",
    "url = \"http://127.0.0.1:5000/api/fetch\"  # Adjust the port if necessary\n",
    "\n",
    "# Define the parameters you want to send\n",
    "params = {\n",
    "    \"q\": \"doctor\"\n",
    "}\n",
    "\n",
    "try:\n",
    "    # Make a POST request to the Flask API\n",
    "    response = requests.post(url, json=params)\n",
    "    \n",
    "    # Check if the request was successful\n",
    "    if response.status_code == 200:\n",
    "        # Parse the JSON response\n",
    "        data = response.json()\n",
    "        print(\"Data from API:\", json.dumps(data, indent=4))\n",
    "    else:\n",
    "        print(f\"Failed to fetch data: {response.status_code}\")\n",
    "        print(response.json())  # Display error details if any\n",
    "except requests.exceptions.RequestException as e:\n",
    "    print(f\"An error occurred: {e}\")"
   ]
  },
  {
   "cell_type": "code",
   "execution_count": null,
   "id": "e24ba209-758f-469c-bba5-d729b0d6a153",
   "metadata": {},
   "outputs": [],
   "source": []
  }
 ],
 "metadata": {
  "kernelspec": {
   "display_name": "Python 3 (ipykernel)",
   "language": "python",
   "name": "python3"
  },
  "language_info": {
   "codemirror_mode": {
    "name": "ipython",
    "version": 3
   },
   "file_extension": ".py",
   "mimetype": "text/x-python",
   "name": "python",
   "nbconvert_exporter": "python",
   "pygments_lexer": "ipython3",
   "version": "3.10.10"
  }
 },
 "nbformat": 4,
 "nbformat_minor": 5
}
